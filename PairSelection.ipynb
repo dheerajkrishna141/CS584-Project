{
 "cells": [
  {
   "cell_type": "code",
   "execution_count": null,
   "id": "64b6b960",
   "metadata": {},
   "outputs": [],
   "source": [
    "import yfinance as yf\n",
    "import pandas as pd\n",
    "import numpy as np\n",
    "import matplotlib.pyplot as plt"
   ]
  },
  {
   "cell_type": "code",
   "execution_count": null,
   "id": "5b54d97b",
   "metadata": {},
   "outputs": [],
   "source": [
    "ticker=[\"SPY\",\"AAPL\",\"KO\",\"IBM\",\"DIS\",\"MSFT\"]"
   ]
  },
  {
   "cell_type": "code",
   "execution_count": null,
   "id": "27d0ca8a",
   "metadata": {},
   "outputs": [],
   "source": [
    "stocks = yf.download(ticker, start = \"2005-01-01\",end =\"2025-01-31\")"
   ]
  },
  {
   "cell_type": "code",
   "execution_count": null,
   "id": "0e58ff7b",
   "metadata": {},
   "outputs": [],
   "source": [
    "close=stocks.loc[:,\"Close\"].copy()"
   ]
  },
  {
   "cell_type": "code",
   "execution_count": null,
   "id": "83b34054",
   "metadata": {},
   "outputs": [],
   "source": [
    "normclose=close.div(close.iloc[0]).mul(100)"
   ]
  },
  {
   "cell_type": "code",
   "execution_count": null,
   "id": "f662c774",
   "metadata": {},
   "outputs": [],
   "source": [
    "normclose.plot(figsize=(15,8),fontsize=12)\n",
    "plt.legend(fontsize=12)\n",
    "plt.show()"
   ]
  },
  {
   "cell_type": "code",
   "execution_count": null,
   "id": "feaf8e4d",
   "metadata": {},
   "outputs": [],
   "source": [
    "ret=close.pct_change().dropna()\n",
    "ret.head()"
   ]
  },
  {
   "cell_type": "code",
   "execution_count": null,
   "id": "7a877a48",
   "metadata": {},
   "outputs": [],
   "source": [
    "ret.describe().T"
   ]
  },
  {
   "cell_type": "code",
   "execution_count": null,
   "id": "ad8b827d",
   "metadata": {},
   "outputs": [],
   "source": [
    "summary=ret.describe().T.loc[:,[\"mean\",\"std\"]]\n",
    "summary"
   ]
  },
  {
   "cell_type": "code",
   "execution_count": null,
   "id": "61bb3694",
   "metadata": {},
   "outputs": [],
   "source": [
    "summary[\"mean\"]=summary[\"mean\"]*252\n",
    "summary[\"std\"]=summary[\"std\"]*np.sqrt(252)\n",
    "summary"
   ]
  },
  {
   "cell_type": "code",
   "execution_count": null,
   "id": "ca4eee49",
   "metadata": {
    "scrolled": true
   },
   "outputs": [],
   "source": [
    "summary.plot.scatter(x=\"std\",y=\"mean\",figsize=(12,8),s=50,fontsize=15)\n",
    "for i in summary.index:\n",
    "    plt.annotate(i,xy=(summary.loc[i,\"std\"]+0.002,summary.loc[i,\"mean\"]+0.002),size=15)\n",
    "plt.xlabel(\"Annual risk(std)\",fontsize = 15)\n",
    "plt.ylabel(\"Annual return\",fontsize = 15)\n",
    "plt.title(\"Risk/return\",fontsize=25)\n",
    "plt.show()"
   ]
  },
  {
   "cell_type": "markdown",
   "id": "f5266ac3",
   "metadata": {},
   "source": [
    "## Correlation and Covariance"
   ]
  },
  {
   "cell_type": "code",
   "execution_count": null,
   "id": "3a76b2f9",
   "metadata": {},
   "outputs": [],
   "source": [
    "# comment"
   ]
  },
  {
   "cell_type": "code",
   "execution_count": null,
   "id": "b8616476",
   "metadata": {},
   "outputs": [],
   "source": [
    "ret"
   ]
  },
  {
   "cell_type": "code",
   "execution_count": null,
   "id": "9dc03aec",
   "metadata": {},
   "outputs": [],
   "source": [
    "ret.cov()"
   ]
  },
  {
   "cell_type": "code",
   "execution_count": null,
   "id": "010e1124",
   "metadata": {},
   "outputs": [],
   "source": [
    "ret.corr()"
   ]
  },
  {
   "cell_type": "code",
   "execution_count": null,
   "id": "767bcd89",
   "metadata": {
    "scrolled": true
   },
   "outputs": [],
   "source": [
    "import seaborn as sns"
   ]
  },
  {
   "cell_type": "code",
   "execution_count": null,
   "id": "d5263fdb",
   "metadata": {},
   "outputs": [],
   "source": [
    "plt.figure(figsize=(12,8))\n",
    "sns.set(font_scale=1.4)\n",
    "sns.heatmap(ret.corr(),cmap=\"Reds\",annot=True,annot_kws={\"size\":15},vmax=0.6)\n",
    "plt.show()"
   ]
  }
 ],
 "metadata": {
  "kernelspec": {
   "display_name": "Python 3 (ipykernel)",
   "language": "python",
   "name": "python3"
  },
  "language_info": {
   "codemirror_mode": {
    "name": "ipython",
    "version": 3
   },
   "file_extension": ".py",
   "mimetype": "text/x-python",
   "name": "python",
   "nbconvert_exporter": "python",
   "pygments_lexer": "ipython3",
   "version": "3.12.9"
  }
 },
 "nbformat": 4,
 "nbformat_minor": 5
}
